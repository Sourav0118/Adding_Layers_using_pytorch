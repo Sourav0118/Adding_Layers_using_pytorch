{
 "cells": [
  {
   "cell_type": "code",
   "execution_count": null,
   "id": "07779157",
   "metadata": {},
   "outputs": [],
   "source": [
    "import sys\n",
    "\n",
    "import torch\n",
    "import pandas as pd\n",
    "import sklearn as sk\n",
    "\n",
    "print(f\"PyTorch Version: {torch.__version__}\")\n",
    "print()\n",
    "print(f\"Python {sys.version}\")\n",
    "print(f\"Pandas {pd.__version__}\")\n",
    "print(f\"Scikit-Learn {sk.__version__}\")\n",
    "print(\"GPU is\", \"available\" if torch.cuda.is_available() else \"NOT AVAILABLE\")"
   ]
  },
  {
   "cell_type": "code",
   "execution_count": 45,
   "id": "abb47052",
   "metadata": {},
   "outputs": [],
   "source": [
    "import torch\n",
    "import torchvision\n",
    "from torchvision.datasets import MNIST\n",
    "import matplotlib.pyplot as plt\n",
    "%matplotlib inline\n",
    "import torchvision.transforms as trn\n",
    "import numpy as np\n",
    "from torch.utils.data.sampler import SubsetRandomSampler\n",
    "from torch.utils.data.dataloader import DataLoader\n",
    "import torch.nn as nn\n",
    "import torch.nn.functional as F"
   ]
  },
  {
   "cell_type": "code",
   "execution_count": 46,
   "id": "7ee05321",
   "metadata": {},
   "outputs": [
    {
     "data": {
      "text/plain": [
       "60000"
      ]
     },
     "execution_count": 46,
     "metadata": {},
     "output_type": "execute_result"
    }
   ],
   "source": [
    "dataset = MNIST(root = 'D:\\sourav\\cs\\AI_ML\\pytorch\\pytorch', download = True)\n",
    "len(dataset)"
   ]
  },
  {
   "cell_type": "markdown",
   "id": "d6f0dd74",
   "metadata": {},
   "source": [
    "# Using multi-layer network to create model\n",
    "\n",
    "instead of creating a single nn.linear object, we will use two nn.linear objects. each of this is called a layer in the network\n",
    "\n",
    "the first layer will transform the input matrix of shape batch_size X 784 into an intermidiate output matrix of batch size X hidden_size  where hidden_size is a preconfigured parameter ( eg. 32 or 64 )\n",
    "\n",
    "the intermidiate outputs are then passed into a non linear activation fxn which operates on individual elements of the output matrix\n",
    "\n",
    "the result of the activation fxn which is also the size of batch_size X hidden_size is passed into the second layer which transforms it into a matrix of size batch_size X 10, identical to the output of the logistic regression model\\\n",
    "\n",
    "the activation fxn that we use here is a Rectified linear unit or ReLU. it's formula is relu(x) = max(0, x)"
   ]
  },
  {
   "cell_type": "code",
   "execution_count": 47,
   "id": "a5edae4b",
   "metadata": {},
   "outputs": [],
   "source": [
    "dataset = MNIST(root = \"D:\\sourav\\cs\\AI_ML\\pytorch\\pytorch\", train=True, transform = trn.ToTensor())"
   ]
  },
  {
   "cell_type": "code",
   "execution_count": 48,
   "id": "57017677",
   "metadata": {},
   "outputs": [
    {
     "name": "stdout",
     "output_type": "stream",
     "text": [
      "51000\n",
      "9000\n"
     ]
    }
   ],
   "source": [
    "# let us define a function that randomly picks a given fraction of the images for the validation set\n",
    "\n",
    "np.set_printoptions(suppress = True)\n",
    "def split_indx(n, val_frct):\n",
    "    n_val = int(n*val_frct)   # no. of images x faction\n",
    "    idx = np.random.permutation(n)   # creating random permutation of 0 to n-1\n",
    "    return idx[n_val:], idx[:n_val]\n",
    "\n",
    "train_idx, val_idx = split_indx(len(dataset), 0.15)\n",
    "print(len(train_idx))\n",
    "print(len(val_idx))"
   ]
  },
  {
   "cell_type": "code",
   "execution_count": 49,
   "id": "37450696",
   "metadata": {},
   "outputs": [],
   "source": [
    "batch_size=100\n",
    "train(model, train_dl, optimizer, criterion, 100000)\n",
    "train_sampler = SubsetRandomSampler(train_idx)\n",
    "train_loader = DataLoader(dataset, batch_size, sampler=train_sampler)\n",
    "\n",
    "val_sampler = SubsetRandomSampler(val_idx)\n",
    "val_loader = DataLoader(dataset, batch_size, sampler=val_sampler)"
   ]
  },
  {
   "cell_type": "code",
   "execution_count": 50,
   "id": "63e94c1c",
   "metadata": {},
   "outputs": [
    {
     "name": "stdout",
     "output_type": "stream",
     "text": [
      "Parameter containing:\n",
      "tensor([[-2.8730e-02,  5.3940e-03,  2.0942e-02,  ..., -1.6435e-02,\n",
      "          2.8908e-02,  2.2794e-02],\n",
      "        [-7.4438e-04,  2.0715e-02,  1.2021e-02,  ..., -4.0449e-03,\n",
      "         -1.6498e-02, -3.3138e-02],\n",
      "        [ 1.1518e-02,  2.0152e-02, -3.3674e-02,  ..., -2.2791e-02,\n",
      "         -3.1080e-02, -2.0474e-02],\n",
      "        ...,\n",
      "        [-9.2046e-03,  1.1879e-02, -9.0071e-03,  ..., -2.0340e-02,\n",
      "         -3.5342e-02,  2.9506e-02],\n",
      "        [-2.2155e-02, -3.1205e-03, -2.6973e-02,  ...,  1.0025e-02,\n",
      "          1.8217e-05,  1.9095e-03],\n",
      "        [-3.0359e-02, -1.9731e-02,  1.9409e-05,  ..., -3.7476e-03,\n",
      "         -4.2008e-03, -2.5724e-02]], requires_grad=True)\n",
      "Parameter containing:\n",
      "tensor([ 0.0083, -0.0338, -0.0219, -0.0150,  0.0069,  0.0009,  0.0311,  0.0219,\n",
      "        -0.0208, -0.0141], requires_grad=True)\n"
     ]
    }
   ],
   "source": [
    "np.set_printoptions(suppress = True)\n",
    "input_size = 28*28\n",
    "num_classes = 10\n",
    "model = nn.Linear(input_size, num_classes)\n",
    "print(model.weight)\n",
    "print(model.bias)"
   ]
  },
  {
   "cell_type": "code",
   "execution_count": 51,
   "id": "243e26cb",
   "metadata": {},
   "outputs": [],
   "source": [
    "class MnistModel(nn.Module):\n",
    "    def __init__(self, in_size, hidden_size1, hidden_size2, out_size):\n",
    "        super().__init__()  # to inherit the nn.Module class\n",
    "        self.linear1 = nn.Linear(in_size, hidden_size1)\n",
    "        self.linear2 = nn.Linear(hidden_size1, hidden_size2)\n",
    "        self.linear3 = nn.Linear(hidden_size2, out_size)\n",
    "        # print('self.linear= ', self.linear)\n",
    "        \n",
    "    def forward(self, xb):\n",
    "        # flatten the images tensors\n",
    "        xb = xb.view(xb.size(0), -1)\n",
    "        # get intermidiate outputs using hidden layer\n",
    "        out = self.linear1(xb)\n",
    "        # apply activation fxn\n",
    "        out = F.relu(out)\n",
    "        # get predictions using the output layer\n",
    "        out = self.linear2(out)\n",
    "        return out\n"
   ]
  },
  {
   "cell_type": "code",
   "execution_count": 52,
   "id": "2953d019",
   "metadata": {},
   "outputs": [
    {
     "name": "stdout",
     "output_type": "stream",
     "text": [
      "torch.Size([100, 1, 28, 28])\n",
      "torch.Size([100, 784])\n"
     ]
    }
   ],
   "source": [
    "for xb, yb in train_loader:\n",
    "    print(xb.shape)\n",
    "    break\n",
    "    \n",
    "for xb, yb in train_loader:\n",
    "    xb = xb.view(100, 784)   # instead of 100 you can also write xb.size(0)\n",
    "    # instead of 784 you can write -1 which means that pytorch itself finds the shape because everytime we will not be getting the size\n",
    "    print(xb.shape)\n",
    "    break"
   ]
  },
  {
   "cell_type": "code",
   "execution_count": 53,
   "id": "e2d64d56",
   "metadata": {},
   "outputs": [
    {
     "data": {
      "text/plain": [
       "tensor([0.0000, 0.2000, 0.0000])"
      ]
     },
     "execution_count": 53,
     "metadata": {},
     "output_type": "execute_result"
    }
   ],
   "source": [
    "t = torch.tensor([0, 0.2, -0.3])\n",
    "F.relu(t)"
   ]
  },
  {
   "cell_type": "code",
   "execution_count": 71,
   "id": "52378eb7",
   "metadata": {},
   "outputs": [],
   "source": [
    "input_size = 784\n",
    "num_classes = 10\n",
    "\n",
    "model = MnistModel(input_size, 64, 32, num_classes)"
   ]
  },
  {
   "cell_type": "code",
   "execution_count": 72,
   "id": "57924b24",
   "metadata": {},
   "outputs": [
    {
     "name": "stdout",
     "output_type": "stream",
     "text": [
      "torch.Size([64, 784])\n",
      "torch.Size([64])\n",
      "torch.Size([32, 64])\n",
      "torch.Size([32])\n",
      "torch.Size([10, 32])\n",
      "torch.Size([10])\n"
     ]
    }
   ],
   "source": [
    "for t in model.parameters():\n",
    "    print(t.shape)"
   ]
  },
  {
   "cell_type": "code",
   "execution_count": 73,
   "id": "64cc3b63",
   "metadata": {},
   "outputs": [
    {
     "name": "stdout",
     "output_type": "stream",
     "text": [
      "images.shape=  torch.Size([100, 1, 28, 28])\n",
      "loss: 3.3967785835266113\n",
      "outputs.shape= torch.Size([100, 32])\n",
      "sample outputs=\n",
      "tensor([[0.0314, 0.0316, 0.0326, 0.0304, 0.0349, 0.0354, 0.0366, 0.0341, 0.0310,\n",
      "         0.0362, 0.0295, 0.0271, 0.0317, 0.0340, 0.0295, 0.0305, 0.0310, 0.0350,\n",
      "         0.0264, 0.0326, 0.0272, 0.0259, 0.0294, 0.0307, 0.0318, 0.0326, 0.0280,\n",
      "         0.0314, 0.0323, 0.0277, 0.0294, 0.0321],\n",
      "        [0.0291, 0.0310, 0.0306, 0.0311, 0.0373, 0.0322, 0.0362, 0.0363, 0.0301,\n",
      "         0.0355, 0.0282, 0.0269, 0.0281, 0.0347, 0.0282, 0.0315, 0.0292, 0.0357,\n",
      "         0.0280, 0.0326, 0.0270, 0.0250, 0.0275, 0.0319, 0.0326, 0.0333, 0.0303,\n",
      "         0.0327, 0.0354, 0.0278, 0.0279, 0.0361]])\n",
      "sum of probabilities=  tensor(1., grad_fn=<SumBackward0>)\n"
     ]
    },
    {
     "name": "stderr",
     "output_type": "stream",
     "text": [
      "D:\\miniconda\\envs\\torch\\lib\\site-packages\\ipykernel_launcher.py:11: UserWarning: Implicit dimension choice for softmax has been deprecated. Change the call to include dim=X as an argument.\n",
      "  # This is added back by InteractiveShellApp.init_path()\n",
      "D:\\miniconda\\envs\\torch\\lib\\site-packages\\ipykernel_launcher.py:12: UserWarning: Implicit dimension choice for softmax has been deprecated. Change the call to include dim=X as an argument.\n",
      "  if sys.path[0] == \"\":\n"
     ]
    }
   ],
   "source": [
    "for images, lables in train_loader:\n",
    "    print('images.shape= ', images.shape)\n",
    "    outputs = model(images)\n",
    "    loss = F.cross_entropy(outputs, lables)\n",
    "    print(\"loss:\", loss.item())\n",
    "    break\n",
    "\n",
    "np.set_printoptions(suppress = True)\n",
    "print('outputs.shape=',outputs.shape)\n",
    "print(\"sample outputs=\")\n",
    "print(F.softmax(outputs)[:2].data)\n",
    "print(\"sum of probabilities= \", torch.sum(F.softmax(outputs)[0]))"
   ]
  },
  {
   "cell_type": "code",
   "execution_count": 74,
   "id": "c874eb03",
   "metadata": {},
   "outputs": [
    {
     "data": {
      "text/plain": [
       "True"
      ]
     },
     "execution_count": 74,
     "metadata": {},
     "output_type": "execute_result"
    }
   ],
   "source": [
    "torch.cuda.is_available()"
   ]
  },
  {
   "cell_type": "markdown",
   "id": "fab26bce",
   "metadata": {},
   "source": [
    "# Creating a fxn that helps us to run our model on GPU"
   ]
  },
  {
   "cell_type": "code",
   "execution_count": 75,
   "id": "68325211",
   "metadata": {},
   "outputs": [],
   "source": [
    "def get_default_device():\n",
    "    if torch.cuda.is_available():\n",
    "        return torch.device('cuda')\n",
    "    else:\n",
    "        return torch.device('cpu')"
   ]
  },
  {
   "cell_type": "code",
   "execution_count": 76,
   "id": "74368f4a",
   "metadata": {},
   "outputs": [
    {
     "data": {
      "text/plain": [
       "device(type='cuda')"
      ]
     },
     "execution_count": 76,
     "metadata": {},
     "output_type": "execute_result"
    }
   ],
   "source": [
    "device = get_default_device()\n",
    "device"
   ]
  },
  {
   "cell_type": "markdown",
   "id": "283a6229",
   "metadata": {},
   "source": [
    "# Define a fxn that can move data and  model to a chosen device"
   ]
  },
  {
   "cell_type": "code",
   "execution_count": 77,
   "id": "a765766e",
   "metadata": {},
   "outputs": [],
   "source": [
    "def to_device(data, device):\n",
    "    # move tensors to the chosen device\n",
    "    if isinstance(data, (list, tuple)):    # checking if my data is in the form of the list or tuple\n",
    "        return [to_device(x, device) for x in data]\n",
    "    return data.to(device, non_blocking=True)"
   ]
  },
  {
   "cell_type": "code",
   "execution_count": 78,
   "id": "dde74bb0",
   "metadata": {},
   "outputs": [
    {
     "name": "stdout",
     "output_type": "stream",
     "text": [
      "torch.Size([100, 1, 28, 28])\n",
      "cuda:0\n"
     ]
    }
   ],
   "source": [
    "for images, labels in train_loader:\n",
    "    print(images.shape)\n",
    "    images = to_device(images, device)\n",
    "    print(images.device)\n",
    "    break"
   ]
  },
  {
   "cell_type": "markdown",
   "id": "e0d88c78",
   "metadata": {},
   "source": [
    "finally we define a DeviceDataLoader class to wrap our existing data loader and move data to the selected device, as a batches are accessed. \n",
    "\n",
    "We need is an __iter__  method to retrieve batches of data and an __len__ method ot get the no. of batches \n",
    "we will not put all the data to the GPU. \n",
    "\n",
    "we will put only some number of batches of data in the GPU"
   ]
  },
  {
   "cell_type": "code",
   "execution_count": 79,
   "id": "7f6e0d54",
   "metadata": {},
   "outputs": [],
   "source": [
    "class DeviceDataLoader():\n",
    "    # wrap a dataloader to move to a device\n",
    "    def __init__(self, dl, device):\n",
    "        self.dl = dl\n",
    "        self.device = device\n",
    "    \n",
    "    def __iter__(self):\n",
    "        # yield a batch of data after moving it to the device\n",
    "        for b in self.dl:\n",
    "            yield to_device(b, self.device) \n",
    "    \n",
    "    def __len__(self):\n",
    "        # number of batches\n",
    "        return len(self.dl)"
   ]
  },
  {
   "cell_type": "markdown",
   "id": "23cdf47a",
   "metadata": {},
   "source": [
    "suppose we call the classDataLoader in a for loop then what yield does is that when the first loop runs it yields the firts batch, when the second loop runs it leaves the first batch and yields the second batch so as there is no load on the GPU"
   ]
  },
  {
   "cell_type": "code",
   "execution_count": 80,
   "id": "15414307",
   "metadata": {},
   "outputs": [],
   "source": [
    "train_dl = DeviceDataLoader(train_loader, device)\n",
    "valid_dl = DeviceDataLoader(val_loader, device)"
   ]
  },
  {
   "cell_type": "code",
   "execution_count": 81,
   "id": "0c82447d",
   "metadata": {},
   "outputs": [
    {
     "name": "stdout",
     "output_type": "stream",
     "text": [
      "xb.device= cuda:0\n",
      "yb=  tensor([6, 8, 8, 3, 4, 0, 7, 6, 0, 5, 6, 8, 4, 7, 6, 0, 6, 7, 6, 2, 5, 6, 9, 5,\n",
      "        5, 7, 2, 0, 2, 2, 7, 9, 7, 3, 3, 6, 1, 9, 2, 6, 5, 8, 2, 7, 6, 7, 6, 5,\n",
      "        6, 6, 3, 0, 6, 9, 7, 1, 0, 5, 7, 1, 0, 3, 8, 9, 1, 0, 7, 1, 1, 0, 2, 1,\n",
      "        6, 5, 8, 0, 0, 2, 2, 0, 3, 0, 4, 4, 1, 7, 8, 3, 3, 9, 8, 8, 4, 4, 8, 9,\n",
      "        2, 3, 9, 2], device='cuda:0')\n"
     ]
    }
   ],
   "source": [
    "for xb, yb in valid_dl:\n",
    "    print('xb.device=', xb.device)\n",
    "    print('yb= ', yb)\n",
    "    break"
   ]
  },
  {
   "cell_type": "markdown",
   "id": "7db5e816",
   "metadata": {},
   "source": [
    "# Model"
   ]
  },
  {
   "cell_type": "code",
   "execution_count": 82,
   "id": "6b91f2ca",
   "metadata": {},
   "outputs": [],
   "source": [
    "def loss_batch(model, loss_fxn, xb, yb, opt=None, metric=None):\n",
    "    # generate predictions\n",
    "    preds = model(xb)\n",
    "    # calc loss\n",
    "    loss = loss_fxn(preds, yb)\n",
    "    \n",
    "    if opt is not None:\n",
    "        # compute gradients\n",
    "        loss.backward()\n",
    "        # update parameters\n",
    "        opt.step()\n",
    "        # reset gradients\n",
    "        opt.zero_grad()\n",
    "        \n",
    "    metric_result = None\n",
    "    if metric is not None:\n",
    "        # compute the metric\n",
    "        metric_result = metric(preds, yb)\n",
    "    return loss.item(), len(xb), metric_result"
   ]
  },
  {
   "cell_type": "code",
   "execution_count": 83,
   "id": "a961f28c",
   "metadata": {},
   "outputs": [],
   "source": [
    "def evaluation(model, loss_fn, valid_dl, metric=None):\n",
    "    with torch.no_grad():\n",
    "        # for gives the batches out of the validation set\n",
    "        # metric is the accuracy matrix\n",
    "        results = [loss_batch(model, loss_fn, xb, yb, metric=metric)\n",
    "                  for xb, yb in valid_dl]\n",
    "        # to separate out the lists we use zip function\n",
    "        losses, nums, metrics = zip(*results)\n",
    "        # total size is the sum of all the batch size\n",
    "        total = np.sum(nums)\n",
    "        # since we have divded the set into batches therefore we can have the last batch size to be smaller than the rest\n",
    "        # so we first calculate the length and then find its avg value\n",
    "        # suppose we have a batch of size 3, 3 and 2. so we take the first loss and multipy with 3, take 2nd and multiply with \n",
    "        # 3 and then take 3rd loss and muliply with 2. ten sum all the values and then divide by sum of batch size i.e. 3+3+2\n",
    "        avg_loss = np.sum(np.multiply(losses, nums)) / total\n",
    "        avg_metric = None\n",
    "        if metric is not None:\n",
    "            avg_metric = np.sum(np.multiply(metrics, nums))/total\n",
    "        return avg_loss, total, avg_metric"
   ]
  },
  {
   "cell_type": "code",
   "execution_count": 84,
   "id": "a9384432",
   "metadata": {},
   "outputs": [],
   "source": [
    "def fit(epochs, lr, model, loss_fn, train_dl, valid_dl, metric=None, opt=None):\n",
    "    losses, metrics = [], []\n",
    "    \n",
    "    # instantiate the optimizer\n",
    "    if opt is None:\n",
    "        opt = torch.optim.SGD\n",
    "    opt = opt(model.parameters(), lr = lr)\n",
    "    for i in range(epochs):\n",
    "        # Training\n",
    "        for xb, yb in train_dl:\n",
    "            loss, length, metric_result = loss_batch(model, loss_fn, xb, yb, opt)\n",
    "        \n",
    "        # Evaluation\n",
    "        result = evaluation(model, loss_fn, valid_dl, metric)\n",
    "        val_loss, total, val_metric = result\n",
    "        \n",
    "        # record the losses\n",
    "        losses.append(val_loss)\n",
    "        metrics.append(val_metric)\n",
    "        \n",
    "        # printing the progress\n",
    "        if metric is None:\n",
    "            print(\"epoch [\", i+1, ',', epochs, '] , loss= ', val_loss)\n",
    "        else:\n",
    "            print('*Epoch [', i+1, ',', epochs, '], loss= ', val_loss, ',', metric.__name__, ',' , val_metric)\n",
    "    \n",
    "    return losses, metrics"
   ]
  },
  {
   "cell_type": "code",
   "execution_count": 85,
   "id": "b452cdde",
   "metadata": {},
   "outputs": [],
   "source": [
    "def accuracy(outputs, lables):\n",
    "    prob, preds = torch.max(outputs, dim=1)\n",
    "    return torch.sum(preds == lables).item()/len(preds)"
   ]
  },
  {
   "cell_type": "code",
   "execution_count": 86,
   "id": "be299a76",
   "metadata": {},
   "outputs": [
    {
     "data": {
      "text/plain": [
       "MnistModel(\n",
       "  (linear1): Linear(in_features=784, out_features=64, bias=True)\n",
       "  (linear2): Linear(in_features=64, out_features=32, bias=True)\n",
       "  (linear3): Linear(in_features=32, out_features=10, bias=True)\n",
       ")"
      ]
     },
     "execution_count": 86,
     "metadata": {},
     "output_type": "execute_result"
    }
   ],
   "source": [
    "model = MnistModel(input_size, 64, 32, num_classes)\n",
    "to_device(model, device)"
   ]
  },
  {
   "cell_type": "code",
   "execution_count": 87,
   "id": "9df54439",
   "metadata": {},
   "outputs": [
    {
     "name": "stdout",
     "output_type": "stream",
     "text": [
      "loss=  3.484584379196167  accuracy=  0.013444444444444445\n"
     ]
    }
   ],
   "source": [
    "val_loss, total, val_acc = evaluation( model, F.cross_entropy, valid_dl, accuracy)\n",
    "print('loss= ', val_loss, \" accuracy= \", val_acc)"
   ]
  },
  {
   "cell_type": "code",
   "execution_count": 88,
   "id": "b1409e39",
   "metadata": {},
   "outputs": [
    {
     "name": "stdout",
     "output_type": "stream",
     "text": [
      "*Epoch [ 1 , 5 ], loss=  0.18325834241178302 , accuracy , 0.9486666666666667\n",
      "*Epoch [ 2 , 5 ], loss=  0.14846514823536078 , accuracy , 0.9593333333333334\n",
      "*Epoch [ 3 , 5 ], loss=  0.12826246151493656 , accuracy , 0.962\n",
      "*Epoch [ 4 , 5 ], loss=  0.12212483300310042 , accuracy , 0.9657777777777777\n",
      "*Epoch [ 5 , 5 ], loss=  0.11606926823862725 , accuracy , 0.9664444444444444\n"
     ]
    }
   ],
   "source": [
    "losses1, metrics1 = fit(5, 0.5, model, F.cross_entropy, train_dl, valid_dl, accuracy)"
   ]
  },
  {
   "cell_type": "code",
   "execution_count": 89,
   "id": "4cb9d815",
   "metadata": {},
   "outputs": [
    {
     "name": "stdout",
     "output_type": "stream",
     "text": [
      "*Epoch [ 1 , 5 ], loss=  0.09590501586596172 , accuracy , 0.9723333333333334\n",
      "*Epoch [ 2 , 5 ], loss=  0.09507319341517156 , accuracy , 0.9735555555555555\n",
      "*Epoch [ 3 , 5 ], loss=  0.09303994950734906 , accuracy , 0.9738888888888889\n",
      "*Epoch [ 4 , 5 ], loss=  0.09406012704388964 , accuracy , 0.9735555555555555\n",
      "*Epoch [ 5 , 5 ], loss=  0.09428661494619317 , accuracy , 0.9731111111111111\n"
     ]
    }
   ],
   "source": [
    "losses2, metrics2 = fit(5, 0.1, model, F.cross_entropy, train_dl, valid_dl, accuracy)"
   ]
  },
  {
   "cell_type": "code",
   "execution_count": 90,
   "id": "85790d54",
   "metadata": {},
   "outputs": [
    {
     "data": {
      "text/plain": [
       "Text(0, 0.5, 'accuracy')"
      ]
     },
     "execution_count": 90,
     "metadata": {},
     "output_type": "execute_result"
    },
    {
     "data": {
      "image/png": "[encoded data removed]",
      "text/plain": [
       "<Figure size 640x480 with 1 Axes>"
      ]
     },
     "metadata": {},
     "output_type": "display_data"
    }
   ],
   "source": [
    "accuracies = [val_acc] + metrics1 + metrics2\n",
    "plt.plot(accuracies, '-x')\n",
    "plt.xlabel('epoch')\n",
    "plt.ylabel('accuracy')"
   ]
  },
  {
   "cell_type": "markdown",
   "id": "d60be1f7",
   "metadata": {},
   "source": [
    "# Testing"
   ]
  },
  {
   "cell_type": "code",
   "execution_count": 91,
   "id": "3c46ae17",
   "metadata": {},
   "outputs": [
    {
     "name": "stdout",
     "output_type": "stream",
     "text": [
      "shape=  torch.Size([1, 28, 28])\n",
      "label=  7\n"
     ]
    },
    {
     "data": {
      "image/png": "[encoded data removed]",
      "text/plain": [
       "<Figure size 640x480 with 1 Axes>"
      ]
     },
     "metadata": {},
     "output_type": "display_data"
    }
   ],
   "source": [
    "test_dataset = MNIST(root = \"D:\\sourav\\cs\\AI_ML\\pytorch\\pytorch\", train = False, transform=trn.ToTensor())\n",
    "img, label = test_dataset[0]\n",
    "plt.imshow(img[0], cmap = 'gray')\n",
    "print('shape= ', img.shape)\n",
    "print('label= ', label)"
   ]
  },
  {
   "cell_type": "code",
   "execution_count": 92,
   "id": "dbf05125",
   "metadata": {},
   "outputs": [],
   "source": [
    "test_sampler = SubsetRandomSampler(test_dataset)\n",
    "test_loader = DataLoader(test_dataset, 50, sampler=test_sampler)"
   ]
  },
  {
   "cell_type": "code",
   "execution_count": 93,
   "id": "5ca0e49b",
   "metadata": {},
   "outputs": [
    {
     "data": {
      "text/plain": [
       "torch.Size([1, 1, 28, 28])"
      ]
     },
     "execution_count": 93,
     "metadata": {},
     "output_type": "execute_result"
    }
   ],
   "source": [
    "img.unsqueeze(0).shape"
   ]
  },
  {
   "cell_type": "code",
   "execution_count": 94,
   "id": "a9cd234f",
   "metadata": {},
   "outputs": [],
   "source": [
    "def predict_img(img, model):\n",
    "    xb = img.unsqueeze(0)\n",
    "    yb = model(xb)\n",
    "    prob, pred = torch.max(yb, dim=1)\n",
    "    return pred[0].item()"
   ]
  },
  {
   "cell_type": "code",
   "execution_count": 95,
   "id": "ff643565",
   "metadata": {},
   "outputs": [
    {
     "name": "stdout",
     "output_type": "stream",
     "text": [
      "label= 5  prediction= 6\n",
      "label= 4  prediction= 9\n",
      "label= 4  prediction= 2\n",
      "label= 6  prediction= 0\n",
      "label= 2  prediction= 7\n",
      "label= 5  prediction= 3\n",
      "label= 6  prediction= 0\n",
      "label= 3  prediction= 5\n",
      "label= 8  prediction= 2\n",
      "label= 2  prediction= 8\n",
      "label= 2  prediction= 6\n",
      "label= 2  prediction= 1\n",
      "label= 8  prediction= 4\n",
      "label= 5  prediction= 8\n",
      "label= 4  prediction= 9\n",
      "label= 8  prediction= 2\n",
      "label= 8  prediction= 9\n",
      "label= 1  prediction= 2\n",
      "label= 6  prediction= 0\n",
      "label= 6  prediction= 5\n",
      "label= 7  prediction= 1\n",
      "label= 9  prediction= 5\n",
      "label= 4  prediction= 6\n",
      "label= 3  prediction= 7\n",
      "label= 4  prediction= 6\n",
      "label= 6  prediction= 1\n",
      "label= 6  prediction= 8\n",
      "label= 2  prediction= 4\n",
      "label= 7  prediction= 2\n",
      "label= 9  prediction= 4\n",
      "label= 4  prediction= 9\n",
      "label= 9  prediction= 5\n",
      "label= 7  prediction= 1\n",
      "label= 5  prediction= 9\n",
      "label= 5  prediction= 7\n",
      "label= 8  prediction= 3\n",
      "label= 8  prediction= 6\n",
      "label= 7  prediction= 9\n",
      "label= 5  prediction= 6\n",
      "label= 5  prediction= 3\n",
      "label= 2  prediction= 3\n",
      "label= 9  prediction= 7\n",
      "label= 7  prediction= 0\n",
      "label= 7  prediction= 1\n",
      "label= 7  prediction= 9\n",
      "label= 8  prediction= 7\n",
      "label= 4  prediction= 6\n",
      "label= 9  prediction= 3\n",
      "label= 2  prediction= 5\n",
      "label= 2  prediction= 0\n",
      "label= 3  prediction= 7\n",
      "label= 9  prediction= 3\n",
      "label= 8  prediction= 0\n",
      "label= 7  prediction= 1\n",
      "label= 8  prediction= 3\n",
      "label= 9  prediction= 4\n",
      "label= 5  prediction= 0\n",
      "label= 7  prediction= 2\n",
      "label= 9  prediction= 8\n",
      "label= 6  prediction= 5\n",
      "label= 8  prediction= 9\n",
      "label= 7  prediction= 2\n",
      "label= 0  prediction= 4\n",
      "label= 5  prediction= 4\n",
      "label= 2  prediction= 7\n",
      "label= 4  prediction= 9\n",
      "label= 2  prediction= 0\n",
      "label= 3  prediction= 1\n",
      "label= 6  prediction= 0\n",
      "label= 4  prediction= 9\n",
      "label= 6  prediction= 1\n",
      "label= 4  prediction= 9\n",
      "label= 1  prediction= 2\n",
      "label= 9  prediction= 1\n",
      "label= 8  prediction= 0\n",
      "label= 9  prediction= 0\n",
      "label= 0  prediction= 2\n",
      "label= 5  prediction= 9\n",
      "label= 9  prediction= 1\n",
      "label= 3  prediction= 9\n",
      "label= 9  prediction= 4\n",
      "label= 9  prediction= 4\n",
      "label= 2  prediction= 4\n",
      "label= 4  prediction= 9\n",
      "label= 5  prediction= 3\n",
      "label= 7  prediction= 1\n",
      "label= 3  prediction= 5\n",
      "label= 2  prediction= 7\n",
      "label= 9  prediction= 0\n",
      "label= 6  prediction= 1\n",
      "label= 8  prediction= 3\n",
      "label= 4  prediction= 7\n",
      "label= 7  prediction= 3\n",
      "label= 3  prediction= 2\n",
      "label= 9  prediction= 7\n",
      "label= 3  prediction= 5\n",
      "label= 5  prediction= 3\n",
      "label= 6  prediction= 5\n",
      "label= 6  prediction= 8\n",
      "label= 8  prediction= 5\n",
      "label= 1  prediction= 2\n",
      "label= 5  prediction= 9\n",
      "label= 6  prediction= 0\n",
      "label= 5  prediction= 3\n",
      "label= 8  prediction= 3\n",
      "label= 2  prediction= 0\n",
      "label= 4  prediction= 9\n",
      "label= 6  prediction= 0\n",
      "label= 9  prediction= 1\n",
      "label= 6  prediction= 4\n",
      "label= 4  prediction= 9\n",
      "label= 3  prediction= 2\n",
      "label= 6  prediction= 5\n",
      "label= 5  prediction= 0\n",
      "label= 8  prediction= 5\n",
      "label= 9  prediction= 3\n",
      "label= 8  prediction= 3\n",
      "label= 4  prediction= 9\n",
      "label= 6  prediction= 4\n",
      "label= 7  prediction= 3\n",
      "label= 5  prediction= 8\n",
      "label= 5  prediction= 2\n",
      "label= 2  prediction= 8\n",
      "label= 7  prediction= 3\n",
      "label= 0  prediction= 4\n",
      "label= 7  prediction= 1\n",
      "label= 6  prediction= 5\n",
      "label= 1  prediction= 3\n",
      "label= 4  prediction= 2\n",
      "label= 0  prediction= 9\n",
      "label= 9  prediction= 3\n",
      "label= 8  prediction= 5\n",
      "label= 2  prediction= 7\n",
      "label= 7  prediction= 9\n",
      "label= 1  prediction= 7\n",
      "label= 2  prediction= 1\n",
      "label= 9  prediction= 7\n",
      "label= 2  prediction= 8\n",
      "label= 2  prediction= 7\n",
      "label= 9  prediction= 4\n",
      "label= 9  prediction= 4\n",
      "label= 8  prediction= 7\n",
      "label= 9  prediction= 7\n",
      "label= 6  prediction= 5\n",
      "label= 6  prediction= 4\n",
      "label= 4  prediction= 9\n",
      "label= 8  prediction= 4\n",
      "label= 8  prediction= 9\n",
      "label= 3  prediction= 5\n",
      "label= 8  prediction= 0\n",
      "label= 6  prediction= 4\n",
      "label= 9  prediction= 4\n",
      "label= 6  prediction= 5\n",
      "label= 4  prediction= 9\n",
      "label= 2  prediction= 4\n",
      "label= 0  prediction= 8\n",
      "label= 8  prediction= 4\n",
      "label= 7  prediction= 4\n",
      "label= 3  prediction= 2\n",
      "label= 3  prediction= 5\n",
      "label= 3  prediction= 8\n",
      "label= 3  prediction= 8\n",
      "label= 1  prediction= 6\n",
      "label= 1  prediction= 8\n",
      "label= 8  prediction= 3\n",
      "label= 8  prediction= 0\n",
      "label= 7  prediction= 9\n",
      "label= 2  prediction= 3\n",
      "label= 1  prediction= 5\n",
      "label= 3  prediction= 2\n",
      "label= 8  prediction= 5\n",
      "label= 7  prediction= 0\n",
      "label= 4  prediction= 9\n",
      "label= 5  prediction= 3\n",
      "label= 3  prediction= 8\n",
      "label= 3  prediction= 8\n",
      "label= 5  prediction= 3\n",
      "label= 2  prediction= 0\n",
      "label= 3  prediction= 9\n",
      "label= 3  prediction= 0\n",
      "label= 9  prediction= 3\n",
      "label= 2  prediction= 6\n",
      "label= 0  prediction= 5\n",
      "label= 8  prediction= 9\n",
      "label= 9  prediction= 3\n",
      "label= 9  prediction= 7\n",
      "label= 7  prediction= 1\n",
      "label= 0  prediction= 7\n",
      "label= 8  prediction= 7\n",
      "label= 7  prediction= 3\n",
      "label= 8  prediction= 3\n",
      "label= 1  prediction= 6\n",
      "label= 6  prediction= 4\n",
      "label= 0  prediction= 3\n",
      "label= 4  prediction= 9\n",
      "label= 2  prediction= 7\n",
      "label= 2  prediction= 4\n",
      "label= 7  prediction= 8\n",
      "label= 1  prediction= 8\n",
      "label= 2  prediction= 8\n",
      "label= 0  prediction= 5\n",
      "label= 4  prediction= 5\n",
      "label= 0  prediction= 9\n",
      "label= 3  prediction= 9\n",
      "label= 6  prediction= 4\n",
      "label= 0  prediction= 6\n",
      "label= 4  prediction= 9\n",
      "label= 8  prediction= 6\n",
      "label= 8  prediction= 6\n",
      "label= 7  prediction= 2\n",
      "label= 7  prediction= 2\n",
      "label= 7  prediction= 2\n",
      "label= 7  prediction= 2\n",
      "label= 8  prediction= 5\n",
      "label= 5  prediction= 3\n",
      "label= 9  prediction= 4\n",
      "label= 0  prediction= 8\n",
      "label= 2  prediction= 7\n",
      "label= 4  prediction= 7\n",
      "label= 6  prediction= 3\n",
      "label= 6  prediction= 5\n",
      "label= 5  prediction= 6\n",
      "label= 8  prediction= 1\n",
      "label= 4  prediction= 0\n",
      "label= 2  prediction= 0\n",
      "label= 5  prediction= 0\n",
      "label= 5  prediction= 0\n",
      "label= 2  prediction= 0\n",
      "label= 4  prediction= 1\n",
      "label= 9  prediction= 4\n",
      "label= 2  prediction= 7\n",
      "label= 6  prediction= 0\n",
      "label= 2  prediction= 0\n",
      "label= 3  prediction= 8\n",
      "correct= 9766\n",
      "incorrect= 234\n"
     ]
    }
   ],
   "source": [
    "correct = 0\n",
    "incorrect = 0\n",
    "for images, labels in test_dataset:\n",
    "    images = to_device(images, device)\n",
    "    x=predict_img(images, model)\n",
    "    if labels==x:\n",
    "        correct+=1\n",
    "    else:\n",
    "        print('label=', labels, ' prediction=', x)\n",
    "        incorrect+=1\n",
    "print(\"correct=\", correct)\n",
    "print(\"incorrect=\", incorrect)"
   ]
  },
  {
   "cell_type": "code",
   "execution_count": null,
   "id": "60a76542",
   "metadata": {},
   "outputs": [],
   "source": []
  }
 ],
 "metadata": {
  "kernelspec": {
   "display_name": "Python 3 (ipykernel)",
   "language": "python",
   "name": "python3"
  },
  "language_info": {
   "codemirror_mode": {
    "name": "ipython",
    "version": 3
   },
   "file_extension": ".py",
   "mimetype": "text/x-python",
   "name": "python",
   "nbconvert_exporter": "python",
   "pygments_lexer": "ipython3",
   "version": "3.10.6"
  }
 },
 "nbformat": 4,
 "nbformat_minor": 5
}
